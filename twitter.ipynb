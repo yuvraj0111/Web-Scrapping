{
 "cells": [
  {
   "cell_type": "code",
   "execution_count": 80,
   "metadata": {},
   "outputs": [],
   "source": [
    "%run ./keys.ipynb"
   ]
  },
  {
   "cell_type": "code",
   "execution_count": 81,
   "metadata": {},
   "outputs": [],
   "source": [
    "import tweepy\n",
    "import pandas as pd"
   ]
  },
  {
   "cell_type": "code",
   "execution_count": 82,
   "metadata": {},
   "outputs": [],
   "source": [
    "auth=tweepy.OAuthHandler(consumer_key,consumer_secret)\n",
    "auth.set_access_token(access_token,access_token_secret)\n",
    "api = tweepy.API(auth,wait_on_rate_limit=True)"
   ]
  },
  {
   "cell_type": "code",
   "execution_count": 83,
   "metadata": {},
   "outputs": [],
   "source": [
    "cursor=tweepy.Cursor(api.user_timeline,id='PMOIndia',tweet_mode='extended').items(100)"
   ]
  },
  {
   "cell_type": "code",
   "execution_count": 84,
   "metadata": {},
   "outputs": [
    {
     "name": "stderr",
     "output_type": "stream",
     "text": [
      "Unexpected parameter: id\n",
      "Unexpected parameter: id\n",
      "Unexpected parameter: id\n",
      "Unexpected parameter: id\n",
      "Unexpected parameter: id\n",
      "Unexpected parameter: id\n",
      "Unexpected parameter: id\n",
      "Unexpected parameter: id\n",
      "Unexpected parameter: id\n",
      "Unexpected parameter: id\n"
     ]
    }
   ],
   "source": [
    "tweets=[]\n",
    "likes=[]\n",
    "time=[]\n",
    "for i in tweepy.Cursor(api.user_timeline,id='narendramodi',tweet_mode='extended').items(200):\n",
    "    tweets.append(i.full_text)\n",
    "    likes.append(i.favorite_count)\n",
    "    time.append(i.created_at)"
   ]
  },
  {
   "cell_type": "code",
   "execution_count": 85,
   "metadata": {},
   "outputs": [],
   "source": [
    "df=pd.DataFrame({'tweets':tweets,'time':time,'likes':likes})"
   ]
  },
  {
   "cell_type": "code",
   "execution_count": 86,
   "metadata": {},
   "outputs": [
    {
     "data": {
      "text/html": [
       "<div>\n",
       "<style scoped>\n",
       "    .dataframe tbody tr th:only-of-type {\n",
       "        vertical-align: middle;\n",
       "    }\n",
       "\n",
       "    .dataframe tbody tr th {\n",
       "        vertical-align: top;\n",
       "    }\n",
       "\n",
       "    .dataframe thead th {\n",
       "        text-align: right;\n",
       "    }\n",
       "</style>\n",
       "<table border=\"1\" class=\"dataframe\">\n",
       "  <thead>\n",
       "    <tr style=\"text-align: right;\">\n",
       "      <th></th>\n",
       "      <th>tweets</th>\n",
       "      <th>time</th>\n",
       "      <th>likes</th>\n",
       "    </tr>\n",
       "  </thead>\n",
       "  <tbody>\n",
       "    <tr>\n",
       "      <th>0</th>\n",
       "      <td>Birthday greetings to respected Advani Ji. Pra...</td>\n",
       "      <td>2021-11-08 02:56:32+00:00</td>\n",
       "      <td>32810</td>\n",
       "    </tr>\n",
       "    <tr>\n",
       "      <th>1</th>\n",
       "      <td>தமிழக முதல்வர் @mkstalin உடன் பேசினேன். மாநிலத...</td>\n",
       "      <td>2021-11-07 16:41:13+00:00</td>\n",
       "      <td>14100</td>\n",
       "    </tr>\n",
       "    <tr>\n",
       "      <th>2</th>\n",
       "      <td>Spoke to Tamil Nadu CM, Thiru @mkstalin and di...</td>\n",
       "      <td>2021-11-07 15:26:20+00:00</td>\n",
       "      <td>26736</td>\n",
       "    </tr>\n",
       "    <tr>\n",
       "      <th>3</th>\n",
       "      <td>Attended the @BJP4India National Executive Mee...</td>\n",
       "      <td>2021-11-07 12:55:34+00:00</td>\n",
       "      <td>23503</td>\n",
       "    </tr>\n",
       "    <tr>\n",
       "      <th>4</th>\n",
       "      <td>Will lay the foundation stone for the four lan...</td>\n",
       "      <td>2021-11-07 12:54:39+00:00</td>\n",
       "      <td>8827</td>\n",
       "    </tr>\n",
       "    <tr>\n",
       "      <th>...</th>\n",
       "      <td>...</td>\n",
       "      <td>...</td>\n",
       "      <td>...</td>\n",
       "    </tr>\n",
       "    <tr>\n",
       "      <th>195</th>\n",
       "      <td>We envision our aviation sector to run with ut...</td>\n",
       "      <td>2021-10-20 09:05:11+00:00</td>\n",
       "      <td>8187</td>\n",
       "    </tr>\n",
       "    <tr>\n",
       "      <th>196</th>\n",
       "      <td>The airport in Kushinagar fulfils a long-stand...</td>\n",
       "      <td>2021-10-20 09:04:47+00:00</td>\n",
       "      <td>9635</td>\n",
       "    </tr>\n",
       "    <tr>\n",
       "      <th>197</th>\n",
       "      <td>Come to Kushinagar, get inspired by the noble ...</td>\n",
       "      <td>2021-10-20 09:03:44+00:00</td>\n",
       "      <td>27836</td>\n",
       "    </tr>\n",
       "    <tr>\n",
       "      <th>198</th>\n",
       "      <td>Addressing a public meeting in the sacred land...</td>\n",
       "      <td>2021-10-20 08:12:19+00:00</td>\n",
       "      <td>15010</td>\n",
       "    </tr>\n",
       "    <tr>\n",
       "      <th>199</th>\n",
       "      <td>Addressing the Abhidhamma Day programme. https...</td>\n",
       "      <td>2021-10-20 06:51:04+00:00</td>\n",
       "      <td>14509</td>\n",
       "    </tr>\n",
       "  </tbody>\n",
       "</table>\n",
       "<p>200 rows × 3 columns</p>\n",
       "</div>"
      ],
      "text/plain": [
       "                                                tweets  \\\n",
       "0    Birthday greetings to respected Advani Ji. Pra...   \n",
       "1    தமிழக முதல்வர் @mkstalin உடன் பேசினேன். மாநிலத...   \n",
       "2    Spoke to Tamil Nadu CM, Thiru @mkstalin and di...   \n",
       "3    Attended the @BJP4India National Executive Mee...   \n",
       "4    Will lay the foundation stone for the four lan...   \n",
       "..                                                 ...   \n",
       "195  We envision our aviation sector to run with ut...   \n",
       "196  The airport in Kushinagar fulfils a long-stand...   \n",
       "197  Come to Kushinagar, get inspired by the noble ...   \n",
       "198  Addressing a public meeting in the sacred land...   \n",
       "199  Addressing the Abhidhamma Day programme. https...   \n",
       "\n",
       "                         time  likes  \n",
       "0   2021-11-08 02:56:32+00:00  32810  \n",
       "1   2021-11-07 16:41:13+00:00  14100  \n",
       "2   2021-11-07 15:26:20+00:00  26736  \n",
       "3   2021-11-07 12:55:34+00:00  23503  \n",
       "4   2021-11-07 12:54:39+00:00   8827  \n",
       "..                        ...    ...  \n",
       "195 2021-10-20 09:05:11+00:00   8187  \n",
       "196 2021-10-20 09:04:47+00:00   9635  \n",
       "197 2021-10-20 09:03:44+00:00  27836  \n",
       "198 2021-10-20 08:12:19+00:00  15010  \n",
       "199 2021-10-20 06:51:04+00:00  14509  \n",
       "\n",
       "[200 rows x 3 columns]"
      ]
     },
     "execution_count": 86,
     "metadata": {},
     "output_type": "execute_result"
    }
   ],
   "source": [
    "df"
   ]
  },
  {
   "cell_type": "code",
   "execution_count": 87,
   "metadata": {},
   "outputs": [],
   "source": [
    "df=df[~df.tweets.str.contains(\"RT\")]"
   ]
  },
  {
   "cell_type": "code",
   "execution_count": 88,
   "metadata": {},
   "outputs": [
    {
     "data": {
      "text/plain": [
       "(197, 3)"
      ]
     },
     "execution_count": 88,
     "metadata": {},
     "output_type": "execute_result"
    }
   ],
   "source": [
    "df.shape"
   ]
  },
  {
   "cell_type": "code",
   "execution_count": 89,
   "metadata": {},
   "outputs": [],
   "source": [
    "df=df.reset_index(drop='True')"
   ]
  },
  {
   "cell_type": "code",
   "execution_count": 90,
   "metadata": {},
   "outputs": [],
   "source": [
    "most_liked=df.loc[df.likes.nlargest(5).index]"
   ]
  },
  {
   "cell_type": "code",
   "execution_count": 91,
   "metadata": {},
   "outputs": [
    {
     "data": {
      "text/html": [
       "<div>\n",
       "<style scoped>\n",
       "    .dataframe tbody tr th:only-of-type {\n",
       "        vertical-align: middle;\n",
       "    }\n",
       "\n",
       "    .dataframe tbody tr th {\n",
       "        vertical-align: top;\n",
       "    }\n",
       "\n",
       "    .dataframe thead th {\n",
       "        text-align: right;\n",
       "    }\n",
       "</style>\n",
       "<table border=\"1\" class=\"dataframe\">\n",
       "  <thead>\n",
       "    <tr style=\"text-align: right;\">\n",
       "      <th></th>\n",
       "      <th>tweets</th>\n",
       "      <th>time</th>\n",
       "      <th>likes</th>\n",
       "    </tr>\n",
       "  </thead>\n",
       "  <tbody>\n",
       "    <tr>\n",
       "      <th>107</th>\n",
       "      <td>A cruel twist of fate has snatched away from u...</td>\n",
       "      <td>2021-10-29 11:06:45+00:00</td>\n",
       "      <td>153630</td>\n",
       "    </tr>\n",
       "    <tr>\n",
       "      <th>28</th>\n",
       "      <td>दीपावली के पावन अवसर पर देशवासियों को हार्दिक ...</td>\n",
       "      <td>2021-11-04 01:29:57+00:00</td>\n",
       "      <td>110123</td>\n",
       "    </tr>\n",
       "    <tr>\n",
       "      <th>181</th>\n",
       "      <td>India scripts history. \\n\\nWe are witnessing t...</td>\n",
       "      <td>2021-10-21 05:04:22+00:00</td>\n",
       "      <td>109710</td>\n",
       "    </tr>\n",
       "    <tr>\n",
       "      <th>26</th>\n",
       "      <td>I feel privileged that I got to spend Diwali w...</td>\n",
       "      <td>2021-11-04 12:42:37+00:00</td>\n",
       "      <td>94035</td>\n",
       "    </tr>\n",
       "    <tr>\n",
       "      <th>12</th>\n",
       "      <td>Prayed at Kedarnath this morning. https://t.co...</td>\n",
       "      <td>2021-11-05 12:40:51+00:00</td>\n",
       "      <td>90146</td>\n",
       "    </tr>\n",
       "  </tbody>\n",
       "</table>\n",
       "</div>"
      ],
      "text/plain": [
       "                                                tweets  \\\n",
       "107  A cruel twist of fate has snatched away from u...   \n",
       "28   दीपावली के पावन अवसर पर देशवासियों को हार्दिक ...   \n",
       "181  India scripts history. \\n\\nWe are witnessing t...   \n",
       "26   I feel privileged that I got to spend Diwali w...   \n",
       "12   Prayed at Kedarnath this morning. https://t.co...   \n",
       "\n",
       "                         time   likes  \n",
       "107 2021-10-29 11:06:45+00:00  153630  \n",
       "28  2021-11-04 01:29:57+00:00  110123  \n",
       "181 2021-10-21 05:04:22+00:00  109710  \n",
       "26  2021-11-04 12:42:37+00:00   94035  \n",
       "12  2021-11-05 12:40:51+00:00   90146  "
      ]
     },
     "execution_count": 91,
     "metadata": {},
     "output_type": "execute_result"
    }
   ],
   "source": [
    "most_liked"
   ]
  },
  {
   "cell_type": "code",
   "execution_count": null,
   "metadata": {},
   "outputs": [],
   "source": []
  },
  {
   "cell_type": "code",
   "execution_count": null,
   "metadata": {},
   "outputs": [],
   "source": []
  }
 ],
 "metadata": {
  "kernelspec": {
   "display_name": "Python 3",
   "language": "python",
   "name": "python3"
  },
  "language_info": {
   "codemirror_mode": {
    "name": "ipython",
    "version": 3
   },
   "file_extension": ".py",
   "mimetype": "text/x-python",
   "name": "python",
   "nbconvert_exporter": "python",
   "pygments_lexer": "ipython3",
   "version": "3.7.6"
  }
 },
 "nbformat": 4,
 "nbformat_minor": 4
}
